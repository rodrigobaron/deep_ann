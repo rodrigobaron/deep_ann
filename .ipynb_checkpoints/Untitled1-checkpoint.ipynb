{
 "cells": [
  {
   "cell_type": "code",
   "execution_count": 1,
   "metadata": {
    "collapsed": true
   },
   "outputs": [],
   "source": [
    "import tensorflow as tf\n",
    "import numpy as np\n",
    "import pandas as pd\n",
    "import matplotlib.pyplot as plt\n",
    "\n",
    "\n",
    "%matplotlib inline\n",
    "\n",
    "#x_data = pd.read_csv(\"input.csv\")\n",
    "x_data = pd.read_csv(\"train_100k.csv\")\n",
    "x_data = x_data[['x0','y0','x1','y1','x2','y2','x3','y3','x4','y4','x5','y5','x6','y6','x7','y7','x8','y8','x9','y9']].values\n",
    "#y_label = pd.read_csv(\"output.csv\")\n",
    "y_label = pd.read_csv(\"train_100k.truth.csv\")\n",
    "y_label =  y_label[[\"slope\", \"intercept\"]].values"
   ]
  },
  {
   "cell_type": "code",
   "execution_count": 2,
   "metadata": {},
   "outputs": [
    {
     "ename": "IndexError",
     "evalue": "only integers, slices (`:`), ellipsis (`...`), numpy.newaxis (`None`) and integer or boolean arrays are valid indices",
     "output_type": "error",
     "traceback": [
      "\u001b[0;31m---------------------------------------------------------------------------\u001b[0m",
      "\u001b[0;31mIndexError\u001b[0m                                Traceback (most recent call last)",
      "\u001b[0;32m<ipython-input-2-b85fd82abc5b>\u001b[0m in \u001b[0;36m<module>\u001b[0;34m()\u001b[0m\n\u001b[1;32m      1\u001b[0m \u001b[0mx_data_test\u001b[0m \u001b[0;34m=\u001b[0m \u001b[0mpd\u001b[0m\u001b[0;34m.\u001b[0m\u001b[0mread_csv\u001b[0m\u001b[0;34m(\u001b[0m\u001b[0;34m\"train_100k.csv\"\u001b[0m\u001b[0;34m)\u001b[0m\u001b[0;34m\u001b[0m\u001b[0m\n\u001b[0;32m----> 2\u001b[0;31m \u001b[0mx_data_test\u001b[0m \u001b[0;34m=\u001b[0m \u001b[0mx_data\u001b[0m\u001b[0;34m[\u001b[0m\u001b[0;34m[\u001b[0m\u001b[0;34m'x0'\u001b[0m\u001b[0;34m,\u001b[0m\u001b[0;34m'y0'\u001b[0m\u001b[0;34m,\u001b[0m\u001b[0;34m'x1'\u001b[0m\u001b[0;34m,\u001b[0m\u001b[0;34m'y1'\u001b[0m\u001b[0;34m,\u001b[0m\u001b[0;34m'x2'\u001b[0m\u001b[0;34m,\u001b[0m\u001b[0;34m'y2'\u001b[0m\u001b[0;34m,\u001b[0m\u001b[0;34m'x3'\u001b[0m\u001b[0;34m,\u001b[0m\u001b[0;34m'y3'\u001b[0m\u001b[0;34m,\u001b[0m\u001b[0;34m'x4'\u001b[0m\u001b[0;34m,\u001b[0m\u001b[0;34m'y4'\u001b[0m\u001b[0;34m,\u001b[0m\u001b[0;34m'x5'\u001b[0m\u001b[0;34m,\u001b[0m\u001b[0;34m'y5'\u001b[0m\u001b[0;34m,\u001b[0m\u001b[0;34m'x6'\u001b[0m\u001b[0;34m,\u001b[0m\u001b[0;34m'y6'\u001b[0m\u001b[0;34m,\u001b[0m\u001b[0;34m'x7'\u001b[0m\u001b[0;34m,\u001b[0m\u001b[0;34m'y7'\u001b[0m\u001b[0;34m,\u001b[0m\u001b[0;34m'x8'\u001b[0m\u001b[0;34m,\u001b[0m\u001b[0;34m'y8'\u001b[0m\u001b[0;34m,\u001b[0m\u001b[0;34m'x9'\u001b[0m\u001b[0;34m,\u001b[0m\u001b[0;34m'y9'\u001b[0m\u001b[0;34m]\u001b[0m\u001b[0;34m]\u001b[0m\u001b[0;34m.\u001b[0m\u001b[0mvalues\u001b[0m\u001b[0;34m\u001b[0m\u001b[0m\n\u001b[0m\u001b[1;32m      3\u001b[0m \u001b[0my_label\u001b[0m \u001b[0;34m=\u001b[0m \u001b[0mpd\u001b[0m\u001b[0;34m.\u001b[0m\u001b[0mread_csv\u001b[0m\u001b[0;34m(\u001b[0m\u001b[0;34m\"train_100k.truth.csv\"\u001b[0m\u001b[0;34m)\u001b[0m\u001b[0;34m\u001b[0m\u001b[0m\n\u001b[1;32m      4\u001b[0m \u001b[0my_label\u001b[0m \u001b[0;34m=\u001b[0m  \u001b[0my_label\u001b[0m\u001b[0;34m[\u001b[0m\u001b[0;34m[\u001b[0m\u001b[0;34m\"slope\"\u001b[0m\u001b[0;34m,\u001b[0m \u001b[0;34m\"intercept\"\u001b[0m\u001b[0;34m]\u001b[0m\u001b[0;34m]\u001b[0m\u001b[0;34m.\u001b[0m\u001b[0mvalues\u001b[0m\u001b[0;34m\u001b[0m\u001b[0m\n",
      "\u001b[0;31mIndexError\u001b[0m: only integers, slices (`:`), ellipsis (`...`), numpy.newaxis (`None`) and integer or boolean arrays are valid indices"
     ]
    }
   ],
   "source": [
    "x_data_test = pd.read_csv(\"train_100k.csv\")\n",
    "x_data_test = x_data[['x0','y0','x1','y1','x2','y2','x3','y3','x4','y4','x5','y5','x6','y6','x7','y7','x8','y8','x9','y9']].values\n",
    "y_label = pd.read_csv(\"train_100k.truth.csv\")\n",
    "y_label =  y_label[[\"slope\", \"intercept\"]].values"
   ]
  },
  {
   "cell_type": "code",
   "execution_count": null,
   "metadata": {},
   "outputs": [],
   "source": [
    "\n",
    "# Parameters\n",
    "learning_rate = 0.0001\n",
    "training_epochs = 20000\n",
    "batch_size = 100\n",
    "display_step = 100\n",
    "\n",
    "# Network Parameters\n",
    "n_hidden_1 = 10 # 1st layer number of neurons\n",
    "n_hidden_2 = 10 # 2nd layer number of neurons\n",
    "n_hidden_3 = 10\n",
    "\n",
    "n_input = 20 # number of features of my database\n",
    "n_classes = 2 # one target value (float)\n",
    "\n",
    "# tf Graph input\n",
    "x = tf.placeholder(\"float\", [None, n_input])\n",
    "y = tf.placeholder(\"float\", [None, n_classes])\n",
    "\n",
    "\n",
    "# Create model\n",
    "def multilayer_perceptron(x, weights, biases):\n",
    "    # Hidden layer with RELU activation\n",
    "    layer_1 = tf.add(tf.matmul(x, weights['h1']), biases['b1'])\n",
    "    layer_1 = tf.nn.relu(layer_1)\n",
    "    # Hidden layer with RELU activation\n",
    "    layer_2 = tf.add(tf.matmul(layer_1, weights['h2']), biases['b2'])\n",
    "    layer_2 = tf.nn.relu(layer_2)\n",
    "    # Hidden layer with RELU activation\n",
    "    layer_3 = tf.add(tf.matmul(layer_2, weights['h3']), biases['b3'])\n",
    "    layer_3 = tf.nn.relu(layer_3)\n",
    "    # Output layer with linear activation\n",
    "    out_layer = tf.matmul(layer_3, weights['out']) + biases['out']\n",
    "    return out_layer\n",
    "\n",
    "# Store layers weight & bias\n",
    "weights = {\n",
    "    'h1': tf.Variable(tf.random_normal([n_input, n_hidden_1])),\n",
    "    'h2': tf.Variable(tf.random_normal([n_hidden_1, n_hidden_2])),\n",
    "    'h3': tf.Variable(tf.random_normal([n_hidden_2, n_hidden_3])),\n",
    "    'out': tf.Variable(tf.random_normal([n_hidden_2, n_classes]))\n",
    "}\n",
    "biases = {\n",
    "    'b1': tf.Variable(tf.random_normal([n_hidden_1])),\n",
    "    'b2': tf.Variable(tf.random_normal([n_hidden_2])),\n",
    "    'b3': tf.Variable(tf.random_normal([n_hidden_3])),\n",
    "    'out': tf.Variable(tf.random_normal([n_classes]))\n",
    "}\n",
    "\n",
    "# Construct model\n",
    "pred = multilayer_perceptron(x, weights, biases)\n",
    "\n",
    "# Define loss and optimizer\n",
    "cost = tf.reduce_mean(tf.square(pred[0]-y[0]))\n",
    "cost2 = tf.reduce_mean(tf.abs(pred[1]-y[1]))\n",
    "optimizer =  tf.train.AdamOptimizer(learning_rate=learning_rate).minimize(cost)\n",
    "optimizer2 =  tf.train.AdamOptimizer(learning_rate=learning_rate).minimize(cost2)\n",
    "\n",
    "# Initializing the variables\n",
    "#init = tf.initialize_all_variables()\n",
    "\n",
    "# Launch the graph\n",
    "with tf.Session() as sess:\n",
    "    sess.run(tf.global_variables_initializer())\n",
    "\n",
    "    # Training cycle\n",
    "    for epoch in range(training_epochs):\n",
    "        avg_cost = 0.\n",
    "        avg_cost2 = 0.\n",
    "        total_batch = 100000//batch_size\n",
    "        total_batch = 1\n",
    "        # Loop over all batches\n",
    "        for i in range(total_batch):\n",
    "            #batch_x, batch_y = x_data, y_label#completedDatabase.train.next_batch(batch_size)\n",
    "            batch_x, batch_y = x_data[i*batch_size:i*batch_size+batch_size,], y_label[i*batch_size:i*batch_size+batch_size,]\n",
    "            #print(batch_x.shape, batch_y.shape )\n",
    "            # Run optimization op (backprop) and cost op (to get loss value)\n",
    "            _,  c, _, c2 = sess.run([optimizer,  cost, optimizer2,  cost2], feed_dict={x: batch_x,\n",
    "                                                      y: batch_y})\n",
    "            # Compute average loss\n",
    "            avg_cost += c / total_batch\n",
    "            avg_cost2 += c2 / total_batch\n",
    "        # Display logs per epoch step\n",
    "        if epoch % display_step == 0:\n",
    "            print(\"Epoch:\", '%04d' % (epoch+1), \"cost=\", \"{:.9f}\".format(avg_cost), \"cost2=\", \"{:.9f}\".format(avg_cost2))\n",
    "    \n",
    "    r = sess.run(pred, feed_dict={x: x_data_test})\n",
    "    print(r)\n",
    "    print(\"Optimization Finished!\")    "
   ]
  },
  {
   "cell_type": "code",
   "execution_count": null,
   "metadata": {
    "collapsed": true
   },
   "outputs": [],
   "source": []
  }
 ],
 "metadata": {
  "kernelspec": {
   "display_name": "Python 3",
   "language": "python",
   "name": "python3"
  },
  "language_info": {
   "codemirror_mode": {
    "name": "ipython",
    "version": 3
   },
   "file_extension": ".py",
   "mimetype": "text/x-python",
   "name": "python",
   "nbconvert_exporter": "python",
   "pygments_lexer": "ipython3",
   "version": "3.6.1"
  }
 },
 "nbformat": 4,
 "nbformat_minor": 2
}
